{
 "cells": [
  {
   "cell_type": "markdown",
   "metadata": {},
   "source": [
    "# Comparing different clustering algorithms on toy datasets"
   ]
  },
  {
   "cell_type": "markdown",
   "metadata": {},
   "source": [
    "Adapted from http://scikit-learn.org/stable/auto_examples/cluster/plot_cluster_comparison.html"
   ]
  },
  {
   "cell_type": "markdown",
   "metadata": {},
   "source": [
    "This example aims at showing characteristics of different clustering algorithms on datasets that are “interesting” but still in 2D. The last dataset is an example of a ‘null’ situation for clustering: the data is homogeneous, and there is no good clustering.\n",
    "\n",
    "While these examples give some intuition about the algorithms, this intuition might not apply to very high dimensional data.\n",
    "\n",
    "The results could be improved by tweaking the parameters for each clustering strategy, for instance setting the number of clusters for the methods that needs this parameter specified. Note that affinity propagation has a tendency to create many clusters. Thus in this example its two parameters (damping and per-point preference) were set to to mitigate this behavior."
   ]
  },
  {
   "cell_type": "code",
   "execution_count": 4,
   "metadata": {},
   "outputs": [
    {
     "data": {
      "text/plain": [
       "\u001b[0m\u001b[1mPython function: \u001b[22m<function kneighbors_graph at 0x0000022745B73060>"
      ]
     },
     "execution_count": 4,
     "metadata": {},
     "output_type": "execute_result"
    }
   ],
   "source": [
    "using ScikitLearn\n",
    "using PythonPlot, Random, Statistics\n",
    "\n",
    "@sk_import datasets: (make_circles, make_moons, make_blobs)\n",
    "@sk_import cluster: (estimate_bandwidth, MeanShift, MiniBatchKMeans, AgglomerativeClustering, SpectralClustering)\n",
    "@sk_import cluster: (DBSCAN, AffinityPropagation, Birch)\n",
    "@sk_import preprocessing: StandardScaler\n",
    "@sk_import neighbors: kneighbors_graph"
   ]
  },
  {
   "cell_type": "code",
   "execution_count": 11,
   "metadata": {},
   "outputs": [
    {
     "data": {
      "text/plain": [
       "\u001b[0m\u001b[1mPython function: \u001b[22m<function make_biclusters at 0x00000227459C3600>"
      ]
     },
     "execution_count": 11,
     "metadata": {},
     "output_type": "execute_result"
    }
   ],
   "source": [
    "@sk_import datasets: (make_biclusters)"
   ]
  },
  {
   "cell_type": "code",
   "execution_count": 5,
   "metadata": {},
   "outputs": [],
   "source": [
    "Random.seed!(33)\n",
    "\n",
    "# Generate datasets. We choose the size big enough to see the scalability\n",
    "# of the algorithms, but not too big to avoid too long running times\n",
    "n_samples = 1500\n",
    "noisy_circles = make_circles(n_samples=n_samples, factor=.5, noise=.05)\n",
    "noisy_moons = make_moons(n_samples=n_samples, noise=.05)\n",
    "blobs = make_blobs(n_samples=n_samples, random_state=8)\n",
    "no_structure = rand(n_samples, 2), nothing\n",
    "\n",
    "colors0 = collect(\"bgrcmykbgrcmykbgrcmykbgrcmyk\")\n",
    "colors = vcat(fill(colors0, 20)...)\n",
    "\n",
    "clustering_names = [\n",
    "    \"MiniBatchKMeans\", \"AffinityPropagation\", \"MeanShift\",\n",
    "    \"SpectralClustering\", \"Ward\", \"AgglomerativeClustering\",\n",
    "    \"DBSCAN\", \"Birch\"];"
   ]
  },
  {
   "cell_type": "code",
   "execution_count": 6,
   "metadata": {},
   "outputs": [
    {
     "ename": "LoadError",
     "evalue": "MethodError: no method matching adjoint(::PythonCall.Py)\n\u001b[0mClosest candidates are:\n\u001b[0m  adjoint(\u001b[91m::Union{LinearAlgebra.QR, LinearAlgebra.QRCompactWY, LinearAlgebra.QRPivoted}\u001b[39m) at C:\\Users\\TylerThomas\\.julia\\juliaup\\julia-1.8.5+0.x64.w64.mingw32\\share\\julia\\stdlib\\v1.8\\LinearAlgebra\\src\\qr.jl:517\n\u001b[0m  adjoint(\u001b[91m::Union{LinearAlgebra.Cholesky, LinearAlgebra.CholeskyPivoted}\u001b[39m) at C:\\Users\\TylerThomas\\.julia\\juliaup\\julia-1.8.5+0.x64.w64.mingw32\\share\\julia\\stdlib\\v1.8\\LinearAlgebra\\src\\cholesky.jl:558\n\u001b[0m  adjoint(\u001b[91m::LinearAlgebra.UnitUpperTriangular\u001b[39m) at C:\\Users\\TylerThomas\\.julia\\juliaup\\julia-1.8.5+0.x64.w64.mingw32\\share\\julia\\stdlib\\v1.8\\LinearAlgebra\\src\\triangular.jl:389\n\u001b[0m  ...",
     "output_type": "error",
     "traceback": [
      "MethodError: no method matching adjoint(::PythonCall.Py)\n\u001b[0mClosest candidates are:\n\u001b[0m  adjoint(\u001b[91m::Union{LinearAlgebra.QR, LinearAlgebra.QRCompactWY, LinearAlgebra.QRPivoted}\u001b[39m) at C:\\Users\\TylerThomas\\.julia\\juliaup\\julia-1.8.5+0.x64.w64.mingw32\\share\\julia\\stdlib\\v1.8\\LinearAlgebra\\src\\qr.jl:517\n\u001b[0m  adjoint(\u001b[91m::Union{LinearAlgebra.Cholesky, LinearAlgebra.CholeskyPivoted}\u001b[39m) at C:\\Users\\TylerThomas\\.julia\\juliaup\\julia-1.8.5+0.x64.w64.mingw32\\share\\julia\\stdlib\\v1.8\\LinearAlgebra\\src\\cholesky.jl:558\n\u001b[0m  adjoint(\u001b[91m::LinearAlgebra.UnitUpperTriangular\u001b[39m) at C:\\Users\\TylerThomas\\.julia\\juliaup\\julia-1.8.5+0.x64.w64.mingw32\\share\\julia\\stdlib\\v1.8\\LinearAlgebra\\src\\triangular.jl:389\n\u001b[0m  ...",
      "",
      "Stacktrace:",
      " [1] top-level scope",
      "   @ .\\In[6]:22"
     ]
    }
   ],
   "source": [
    "figure(figsize=(length(clustering_names) * 2 + 3, 9.5))\n",
    "subplots_adjust(left=.02, right=.98, bottom=.001, top=.96, wspace=.05,\n",
    "                    hspace=.01)\n",
    "\n",
    "plot_num = 1\n",
    "\n",
    "datasets = [noisy_circles, noisy_moons, blobs, no_structure]\n",
    "\n",
    "for (i_dataset, dataset) in enumerate(datasets)\n",
    "    global plot_num\n",
    "    \n",
    "    X, y = dataset\n",
    "    # normalize dataset for easier parameter selection\n",
    "    X = fit_transform!(StandardScaler(), X)\n",
    "\n",
    "    # estimate bandwidth for mean shift\n",
    "    bandwidth = estimate_bandwidth(X, quantile=0.3)\n",
    "\n",
    "    # connectivity matrix for structured Ward\n",
    "    connectivity = kneighbors_graph(X, n_neighbors=10, include_self=false).todense() # PyCall does not support numpy sparse matrices\n",
    "    # make connectivity symmetric\n",
    "    connectivity = 0.5 * (connectivity + connectivity')\n",
    "\n",
    "    # create clustering estimators\n",
    "    ms = MeanShift(bandwidth=bandwidth, bin_seeding=true)\n",
    "    two_means = MiniBatchKMeans(n_clusters=2)\n",
    "    ward = AgglomerativeClustering(n_clusters=2, linkage=\"ward\",\n",
    "                                   connectivity=connectivity)\n",
    "    spectral = SpectralClustering(n_clusters=2,\n",
    "                                  eigen_solver=\"arpack\",\n",
    "                                  affinity=\"nearest_neighbors\")\n",
    "    dbscan = DBSCAN(eps=.2)\n",
    "    affinity_propagation = AffinityPropagation(damping=.9, preference=-200)\n",
    "\n",
    "    average_linkage = AgglomerativeClustering(\n",
    "        linkage=\"average\", affinity=\"cityblock\", n_clusters=2,\n",
    "        connectivity=connectivity)\n",
    "\n",
    "    birch = Birch(n_clusters=2)\n",
    "    clustering_algorithms = [\n",
    "        two_means, affinity_propagation, ms, spectral, ward, average_linkage,\n",
    "        dbscan, birch]\n",
    "\n",
    "    for (name, algorithm) in zip(clustering_names, clustering_algorithms)\n",
    "        fit!(algorithm, X)\n",
    "        y_pred = nothing\n",
    "        try\n",
    "            y_pred = predict(algorithm, X)\n",
    "        catch e\n",
    "            if isa(e, KeyError)\n",
    "                y_pred = map(Int, algorithm.labels_)\n",
    "                clamp!(y_pred, 0, 27) # not sure why some algorithms return -1\n",
    "            else rethrow() end\n",
    "        end\n",
    "        subplot(4, length(clustering_algorithms), plot_num)\n",
    "        if i_dataset == 1\n",
    "            title(name, size=18)\n",
    "        end\n",
    "\n",
    "        for y_val in unique(y_pred)\n",
    "            selected = y_pred.==y_val\n",
    "            scatter(X[selected, 1], X[selected, 2], color=string(colors0[y_val+1]), s=10)\n",
    "        end\n",
    "\n",
    "        xlim(-2, 2)\n",
    "        ylim(-2, 2)\n",
    "        xticks(())\n",
    "        yticks(())\n",
    "        plot_num += 1\n",
    "    end\n",
    "end"
   ]
  },
  {
   "cell_type": "code",
   "execution_count": null,
   "metadata": {},
   "outputs": [],
   "source": []
  }
 ],
 "metadata": {
  "kernelspec": {
   "display_name": "Julia 1.8.5",
   "language": "julia",
   "name": "julia-1.8"
  },
  "language_info": {
   "file_extension": ".jl",
   "mimetype": "application/julia",
   "name": "julia",
   "version": "1.8.5"
  }
 },
 "nbformat": 4,
 "nbformat_minor": 1
}
